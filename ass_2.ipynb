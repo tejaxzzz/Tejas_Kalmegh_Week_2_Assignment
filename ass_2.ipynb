{
 "cells": [
  {
   "cell_type": "code",
   "execution_count": 5,
   "id": "22cfaafa",
   "metadata": {},
   "outputs": [
    {
     "name": "stdout",
     "output_type": "stream",
     "text": [
      "(2, 4, 6)\n"
     ]
    }
   ],
   "source": [
    "def filter_even_numbers(numbers):\n",
    "    result = []  # Initialize an empty list to store even numbers\n",
    "    for num in numbers:  # Iterate over each number in the input sequence\n",
    "        if num % 2 == 0:  # Check if the number is even\n",
    "            result.append(num)  # Add the even number to the result list\n",
    "    return tuple(result)  # Convert the list of even numbers to a tuple and return it\n",
    "input_tuple = (1, 2, 3, 4, 5, 6)\n",
    "result = filter_even_numbers(input_tuple)\n",
    "print(result)"
   ]
  },
  {
   "cell_type": "code",
   "execution_count": null,
   "id": "751e613d",
   "metadata": {},
   "outputs": [
    {
     "name": "stdout",
     "output_type": "stream",
     "text": [
      "\n",
      "1. Add  2. Remove  3. Display  4. Exit\n",
      "Choice: 3\n",
      "Students: john, nate, tyane, noah, den\n",
      "\n",
      "1. Add  2. Remove  3. Display  4. Exit\n",
      "Choice: 1\n",
      "Name: ram\n",
      "\n",
      "1. Add  2. Remove  3. Display  4. Exit\n",
      "Choice: 3\n",
      "Students: john, nate, tyane, noah, den, ram\n",
      "\n",
      "1. Add  2. Remove  3. Display  4. Exit\n"
     ]
    }
   ],
   "source": [
    "students = [\"john\", \"nate\",\"tyane\", \"noah\", \"den\"]\n",
    "\n",
    "while True:\n",
    "    print(\"\\n1. Add  2. Remove  3. Display  4. Exit\")\n",
    "    choice = input(\"Choice: \")\n",
    "\n",
    "    if choice == '1':\n",
    "        name = input(\"Name: \")\n",
    "        students.append(name)\n",
    "    elif choice == '2':\n",
    "        name = input(\"Name to remove: \")\n",
    "        if name in students:\n",
    "            students.remove(name)\n",
    "    elif choice == '3':\n",
    "        if students:\n",
    "            print(\"Students:\", ', '.join(students))\n",
    "        else:\n",
    "            print(\"No students.\")\n",
    "    elif choice == '4':\n",
    "        break\n",
    "    else:\n",
    "        print(\"Invalid choice.\")\n"
   ]
  },
  {
   "cell_type": "code",
   "execution_count": 1,
   "id": "fc63c33c",
   "metadata": {},
   "outputs": [
    {
     "name": "stdout",
     "output_type": "stream",
     "text": [
      "\n",
      "1. Add  2. Remove  3. Display  4. Exit\n",
      "Choice: 1\n",
      "Enter the name of the student to add: tz\n",
      "Student 'tz' added.\n",
      "\n",
      "1. Add  2. Remove  3. Display  4. Exit\n",
      "Choice: 3\n",
      "List of students: john, noah, tz\n",
      "\n",
      "1. Add  2. Remove  3. Display  4. Exit\n",
      "Choice: 4\n",
      "Exiting the program. Goodbye!\n"
     ]
    }
   ],
   "source": [
    "4\n",
    "students = [\"john\",\"noah\"]\n",
    "\n",
    "def display_menu():\n",
    "    \"\"\"Displays the menu options.\"\"\"\n",
    "    print(\"\\n1. Add  2. Remove  3. Display  4. Exit\")\n",
    "\n",
    "def add_student():\n",
    "    \"\"\"Prompts the user to add a student name.\"\"\"\n",
    "    name = input(\"Enter the name of the student to add: \")\n",
    "    if name:\n",
    "        students.append(name)\n",
    "        print(f\"Student '{name}' added.\")\n",
    "    else:\n",
    "        print(\"No name provided.\")\n",
    "\n",
    "def remove_student():\n",
    "    \"\"\"Prompts the user to remove a student name.\"\"\"\n",
    "    name = input(\"Enter the name of the stdent to remove: \")\n",
    "    if name in students:\n",
    "        students.remove(name)\n",
    "        print(f\"Student '{name}' removed.\")\n",
    "    else:\n",
    "        print(f\"Student '{name}' not found.\")\n",
    "\n",
    "def display_students():\n",
    "    \"\"\"Displays the list of students.\"\"\"\n",
    "    if students:\n",
    "        print(\"List of students:\", ', '.join(students))\n",
    "    else:\n",
    "        print(\"No students in the list.\")\n",
    "\n",
    "def main():\n",
    "  \n",
    "    while True:\n",
    "        display_menu()  \n",
    "        choice = input(\"Choice: \")  \n",
    "        \n",
    "        if choice == '1':\n",
    "            add_student()  \n",
    "        elif choice == '2':\n",
    "            remove_student() \n",
    "        elif choice == '3':\n",
    "            display_students()  \n",
    "        elif choice == '4':\n",
    "            print(\"Exiting the program. Goodbye\")\n",
    "            break  # Exit the loop to end the program\n",
    "        else:\n",
    "            print(\"Invalid choice. Please enter a number between 1 and 4.\")\n",
    "            \n",
    "if __name__ == \"__main__\":\n",
    "    main()\n",
    "\n",
    "\n"
   ]
  },
  {
   "cell_type": "code",
   "execution_count": 7,
   "id": "f6eb4118",
   "metadata": {},
   "outputs": [
    {
     "name": "stdout",
     "output_type": "stream",
     "text": [
      "9\n"
     ]
    }
   ],
   "source": [
    "def count_words(text):\n",
    "    # Convert text to lowercase to make counting case-insensitive\n",
    "    text = text.lower()\n",
    "    \n",
    "    # Remove punctuation nd split the text into words\n",
    "    words = text.replace('.', ' ').replace(',', ' ').split()\n",
    "    \n",
    "    # Count using len fun\n",
    "    num_words = len(words)\n",
    "    \n",
    "    return num_words\n",
    "\n",
    "\n",
    "if __name__ == \"__main__\":\n",
    "    sample_text = \"what you are supposed to do in the afternoon\"\n",
    "    word_count = count_words(sample_text)\n",
    "    print(word_count)\n"
   ]
  },
  {
   "cell_type": "code",
   "execution_count": null,
   "id": "91df0877",
   "metadata": {},
   "outputs": [],
   "source": []
  }
 ],
 "metadata": {
  "kernelspec": {
   "display_name": "Python 3 (ipykernel)",
   "language": "python",
   "name": "python3"
  },
  "language_info": {
   "codemirror_mode": {
    "name": "ipython",
    "version": 3
   },
   "file_extension": ".py",
   "mimetype": "text/x-python",
   "name": "python",
   "nbconvert_exporter": "python",
   "pygments_lexer": "ipython3",
   "version": "3.10.9"
  }
 },
 "nbformat": 4,
 "nbformat_minor": 5
}
